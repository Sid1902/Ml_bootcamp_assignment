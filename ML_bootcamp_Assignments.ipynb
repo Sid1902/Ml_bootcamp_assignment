{
 "cells": [
  {
   "cell_type": "markdown",
   "id": "65b39b72",
   "metadata": {},
   "source": [
    "# WAP to accept two numbers from the user and display their sum"
   ]
  },
  {
   "cell_type": "code",
   "execution_count": 3,
   "id": "da28a21b",
   "metadata": {},
   "outputs": [
    {
     "name": "stdout",
     "output_type": "stream",
     "text": [
      "Enter first Number :25\n",
      "Enter second Number : 256\n",
      "Sum is 281\n"
     ]
    }
   ],
   "source": [
    "a = int(input(\"Enter first Number :\"))\n",
    "b = int(input(\"Enter second Number : \"))\n",
    "\n",
    "print (\"Sum is\",a+b)\n"
   ]
  },
  {
   "cell_type": "markdown",
   "id": "0d44454a",
   "metadata": {},
   "source": [
    "# WAP to accept radius of a Circle from the user and calculate area and circumference"
   ]
  },
  {
   "cell_type": "code",
   "execution_count": 4,
   "id": "372be431",
   "metadata": {},
   "outputs": [
    {
     "name": "stdout",
     "output_type": "stream",
     "text": [
      "Please enter the radius of the given circle: 2\n",
      " The area of the given circle is:  12.566370614359172\n",
      " The Circumference of the given circle is:  12.566370614359172\n"
     ]
    }
   ],
   "source": [
    "from math import pi \n",
    "r = int(input (\"Please enter the radius of the given circle: \"))  \n",
    "area = pi* r * r \n",
    "circumference = 2*pi*r\n",
    "print (\"The area of the given circle is: \", area)  \n",
    "print (\"The Circumference of the given circle is: \", circumference)  "
   ]
  },
  {
   "cell_type": "markdown",
   "id": "ce8d4871",
   "metadata": {},
   "source": [
    "# WAP to accept roll number , grade and percentage as input from the user and display it back"
   ]
  },
  {
   "cell_type": "code",
   "execution_count": 6,
   "id": "88e52e1c",
   "metadata": {},
   "outputs": [
    {
     "name": "stdout",
     "output_type": "stream",
     "text": [
      "Enter roll no : 25\n",
      "Enter grade : B\n",
      "Enter percentage : 95\n",
      "Roll no is :  25\n",
      "Grade is  B\n",
      "Percentage is 95 %\n"
     ]
    }
   ],
   "source": [
    "a=int(input(\"Enter roll no : \"))\n",
    "b=input(\"Enter grade : \")\n",
    "c=input(\"Enter percentage : \")\n",
    "\n",
    "print (\"Roll no is : \",a)\n",
    "print(\"Grade is \",b)\n",
    "print (\"Percentage is {} %\".format(c))"
   ]
  },
  {
   "cell_type": "markdown",
   "id": "8de2dafa",
   "metadata": {},
   "source": [
    "# Write a program that asks the user to enter his/her name and age. Print out a message , displaying the user’s name along with the year in which they will turn 100 years old."
   ]
  },
  {
   "cell_type": "code",
   "execution_count": 7,
   "id": "e6fd7c29",
   "metadata": {},
   "outputs": [
    {
     "name": "stdout",
     "output_type": "stream",
     "text": [
      "Enter name : Siddhant\n",
      "Enter age : 21\n",
      "Name is  Siddhant And he/she will turn 100 in year  2101\n"
     ]
    }
   ],
   "source": [
    "\n",
    "b=input(\"Enter name : \")\n",
    "a=int(input(\"Enter age : \"))\n",
    "\n",
    "y=2022+(100-a)\n",
    "\n",
    "print(\"Name is \",b,\"And he/she will turn 100 in year \",y)"
   ]
  },
  {
   "cell_type": "markdown",
   "id": "a0bb15c8",
   "metadata": {},
   "source": [
    "# Write a program that asks the user to input 2 integers and adds them . Accept both the numbers in a single line only"
   ]
  },
  {
   "cell_type": "code",
   "execution_count": 12,
   "id": "ebdad732",
   "metadata": {},
   "outputs": [
    {
     "name": "stdout",
     "output_type": "stream",
     "text": [
      "enter two numbers with space 25 56\n",
      "Sum of 25 and 56  is 81\n"
     ]
    }
   ],
   "source": [
    "s=input(\"enter two numbers with space \")\n",
    "a,b=s.split()\n",
    "sum=int(a)+int(b)\n",
    "print(\"Sum of {} and {}  is {}\".format(a,b,sum))"
   ]
  },
  {
   "cell_type": "markdown",
   "id": "6e118420",
   "metadata": {},
   "source": [
    "# Write a Python program which accepts the user's first and last name and print them in reverse order with a space between them.\n"
   ]
  },
  {
   "cell_type": "code",
   "execution_count": 2,
   "id": "0144a7b0",
   "metadata": {},
   "outputs": [
    {
     "name": "stdout",
     "output_type": "stream",
     "text": [
      "enter your first name : siddhant\n",
      "enter your last name : bedmutha\n",
      "ahtumdeb tnahddis\n"
     ]
    }
   ],
   "source": [
    "a=input(\"enter your first name : \")\n",
    "b=input(\"enter your last name : \")\n",
    "print(b[-1::-1] +\" \"+a[-1::-1])"
   ]
  },
  {
   "cell_type": "markdown",
   "id": "0fd3001b",
   "metadata": {},
   "source": [
    "# WAP to accept an integer from the user and check whether it is an even or odd "
   ]
  },
  {
   "cell_type": "code",
   "execution_count": 3,
   "id": "87fe08d7",
   "metadata": {},
   "outputs": [
    {
     "name": "stdout",
     "output_type": "stream",
     "text": [
      "enter The number 25\n",
      "number is odd \n"
     ]
    }
   ],
   "source": [
    "a=int(input(\"enter The number \"))\n",
    "if (a%2==0):\n",
    "    print(\"number is even \")\n",
    "else : \n",
    "    print(\"number is odd \")"
   ]
  },
  {
   "cell_type": "markdown",
   "id": "e106bd28",
   "metadata": {},
   "source": [
    "# WAP to accept a character from the user and check whether it is a capital letter or small letter. Assume user will input only alphabets\n"
   ]
  },
  {
   "cell_type": "code",
   "execution_count": 4,
   "id": "02b43018",
   "metadata": {},
   "outputs": [
    {
     "name": "stdout",
     "output_type": "stream",
     "text": [
      "Enter the character A\n",
      "A is a capital letter \n"
     ]
    }
   ],
   "source": [
    "a=input(\"Enter the character \")\n",
    "if a.isupper()==True :\n",
    "    print (\"{} is a capital letter \".format(a))\n",
    "else :\n",
    "    print (\"{} is a lower letter \".format(a))"
   ]
  },
  {
   "cell_type": "markdown",
   "id": "a91ae879",
   "metadata": {},
   "source": [
    "# WAP to accept a character from the user and check whether it is a capital letter or small letter or a digit or some special symbol"
   ]
  },
  {
   "cell_type": "code",
   "execution_count": 16,
   "id": "759ad051",
   "metadata": {},
   "outputs": [
    {
     "name": "stdout",
     "output_type": "stream",
     "text": [
      "Enter the character %\n",
      "% is Symbol.\n"
     ]
    }
   ],
   "source": [
    "c=input(\"Enter the character \")\n",
    "if ('A'<= c <='Z'):\n",
    "    print(\"{} is Capital letter\".format(c))\n",
    "elif ('a'<= c <='z') :\n",
    "    print(\"{} is small letter\".format(c))\n",
    "elif('0' < c < '9'):\n",
    "    print(\"{} is Integer\".format(c))\n",
    "else :\n",
    "    print(\"{} is Symbol.\".format(c))"
   ]
  },
  {
   "cell_type": "markdown",
   "id": "cd2dae74",
   "metadata": {},
   "source": [
    "# WAP to accept 3 integers from the user and without using any logical operator and cascading of relational operators , find out the greatest number amongst them"
   ]
  },
  {
   "cell_type": "code",
   "execution_count": 1,
   "id": "abc97135",
   "metadata": {},
   "outputs": [
    {
     "name": "stdout",
     "output_type": "stream",
     "text": [
      "Enter first number : 25\n",
      "Enter first number : 63\n",
      "Enter first number : 96\n",
      "96 is the greatest no.\n"
     ]
    }
   ],
   "source": [
    "a=int(input(\"Enter first number : \"))\n",
    "b=int(input(\"Enter first number : \"))\n",
    "c=int(input(\"Enter first number : \"))\n",
    "\n",
    "print(max(a,b,c),\"is the greatest no.\")"
   ]
  },
  {
   "cell_type": "markdown",
   "id": "213fd3fe",
   "metadata": {},
   "source": [
    "# WAP to accept a year from the user and check whether it is a leap year or not."
   ]
  },
  {
   "cell_type": "code",
   "execution_count": 24,
   "id": "2ad2ca7f",
   "metadata": {},
   "outputs": [
    {
     "name": "stdout",
     "output_type": "stream",
     "text": [
      "Enter year to be checked:2020\n",
      "The year is a leap year!\n"
     ]
    }
   ],
   "source": [
    "year=int(input(\"Enter year to be checked:\"))\n",
    "if(year%4==0 and year%100!=0 or year%400==0):\n",
    "    print(\"The year is a leap year!\")\n",
    "else:\n",
    "    print(\"The year isn't a leap year!\")"
   ]
  },
  {
   "cell_type": "markdown",
   "id": "24f28d31",
   "metadata": {},
   "source": [
    "# Write a program to accept a string from the user and display it vertically but don’t display the vowels in it.\n"
   ]
  },
  {
   "cell_type": "code",
   "execution_count": 16,
   "id": "19696fe7",
   "metadata": {},
   "outputs": [
    {
     "name": "stdout",
     "output_type": "stream",
     "text": [
      "Enter a string : siddhant\n",
      "s\n",
      "d\n",
      "d\n",
      "h\n",
      "n\n",
      "t\n"
     ]
    }
   ],
   "source": [
    "a=input(\"Enter a string : \")\n",
    "i=0\n",
    "#lst=['a','e','i','o','u']\n",
    "\n",
    "while (i<len(a)) :\n",
    "    if a[i] in 'aeiou':\n",
    "        pass\n",
    "    else :\n",
    "        print(a[i])\n",
    "    i=i+1\n"
   ]
  },
  {
   "cell_type": "markdown",
   "id": "8c72fc5c",
   "metadata": {},
   "source": [
    "# You have to develop a number guessing game. Following are the steps needed:\n",
    "At first , the program will generate a random integer secretly.\n",
    "\n",
    "Now it will ask the user to guess that number .\n",
    "\n",
    "If the user guessed it correctly then the program prints “Congratulations! You guessed it right” .\n",
    "\n",
    "But if the number guessed by the user is larger than the secret number then program should print “Number too large” and , if the number guessed by the user is smaller than the secret number then the program should print “Number too small” \n",
    "\n",
    "This should continue until the user guesses the number correctly or quits .\n",
    "\n",
    "If the user wants to quit in between he will have to type 0 or negative number\n",
    "\n"
   ]
  },
  {
   "cell_type": "code",
   "execution_count": 15,
   "id": "43b1815e",
   "metadata": {},
   "outputs": [
    {
     "name": "stdout",
     "output_type": "stream",
     "text": [
      "597\n",
      "Enter any Number  : 69\n",
      "Number too small\n",
      "Enter any Number  : 987\n",
      "Number Too large \n",
      "Enter any Number  : 600\n",
      "Number Too large \n",
      "Enter any Number  : 597\n",
      "Congratulations! You guessed it right\n",
      "Thank you for participating!\n"
     ]
    }
   ],
   "source": [
    "import random \n",
    "\n",
    "a=random.randint(1,1000)\n",
    "\n",
    "print(a)\n",
    "\n",
    "\n",
    "\n",
    "while(True) :\n",
    "    \n",
    "    b=int(input(\"Enter any Number  : \"))\n",
    "    if(a==b) :\n",
    "        print(\"Congratulations! You guessed it right\")\n",
    "        break\n",
    "    elif (a>b and b>0) :\n",
    "        print(\"Number too small\")\n",
    "    elif( b>a and b>0) :\n",
    "        print(\"Number Too large \")\n",
    "    else:\n",
    "        pass\n",
    "    if(b<=0) :\n",
    "        break\n",
    "print(\"Thank you for participating!\")   "
   ]
  },
  {
   "cell_type": "code",
   "execution_count": null,
   "id": "acff5ce5",
   "metadata": {},
   "outputs": [],
   "source": []
  },
  {
   "cell_type": "code",
   "execution_count": null,
   "id": "29e90929",
   "metadata": {},
   "outputs": [],
   "source": []
  },
  {
   "cell_type": "code",
   "execution_count": null,
   "id": "1a195cf1",
   "metadata": {},
   "outputs": [],
   "source": []
  },
  {
   "cell_type": "code",
   "execution_count": null,
   "id": "686008d9",
   "metadata": {},
   "outputs": [],
   "source": []
  },
  {
   "cell_type": "code",
   "execution_count": null,
   "id": "a975c07b",
   "metadata": {},
   "outputs": [],
   "source": []
  },
  {
   "cell_type": "code",
   "execution_count": null,
   "id": "8d628796",
   "metadata": {},
   "outputs": [],
   "source": []
  }
 ],
 "metadata": {
  "kernelspec": {
   "display_name": "Python 3 (ipykernel)",
   "language": "python",
   "name": "python3"
  },
  "language_info": {
   "codemirror_mode": {
    "name": "ipython",
    "version": 3
   },
   "file_extension": ".py",
   "mimetype": "text/x-python",
   "name": "python",
   "nbconvert_exporter": "python",
   "pygments_lexer": "ipython3",
   "version": "3.9.13"
  }
 },
 "nbformat": 4,
 "nbformat_minor": 5
}
